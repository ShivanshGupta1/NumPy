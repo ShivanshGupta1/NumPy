{
  "nbformat": 4,
  "nbformat_minor": 0,
  "metadata": {
    "colab": {
      "name": "NumPy.ipynb",
      "provenance": [],
      "authorship_tag": "ABX9TyOhiaEJPKY1AM9dm3NsCaM2",
      "include_colab_link": true
    },
    "kernelspec": {
      "name": "python3",
      "display_name": "Python 3"
    },
    "language_info": {
      "name": "python"
    }
  },
  "cells": [
    {
      "cell_type": "markdown",
      "metadata": {
        "id": "view-in-github",
        "colab_type": "text"
      },
      "source": [
        "<a href=\"https://colab.research.google.com/github/ShivanshGupta1/NumPy/blob/main/NumPy.ipynb\" target=\"_parent\"><img src=\"https://colab.research.google.com/assets/colab-badge.svg\" alt=\"Open In Colab\"/></a>"
      ]
    },
    {
      "cell_type": "code",
      "metadata": {
        "colab": {
          "base_uri": "https://localhost:8080/"
        },
        "id": "RaxpauvM-bN_",
        "outputId": "8e7adf84-7cdd-4d93-cbfe-fbc17a405f8c"
      },
      "source": [
        "#NumPy is a Python library used for working with arrays.\n",
        "#In Python we have lists that serve the purpose of arrays, but they are slow to process.\n",
        "#NumPy aims to provide an array object that is up to 50x faster than traditional Python lists.\n",
        "\n",
        "import numpy as np\n",
        "arr = np.array([2,1,3,5,2])\n",
        "print(arr, type(arr))\n",
        "\n",
        "NoDimensionList = np.array(0)\n",
        "print(NoDimensionList, NoDimensionList.ndim)\n",
        "\n",
        "OneDList = np.array([1,3,4,5])\n",
        "print(OneDList, OneDList.ndim)\n",
        "\n",
        "TwoDList = np.array([[23,5,2,5],[12,2,4,6],[12,2,4,1]])\n",
        "print(TwoDList, TwoDList.ndim)\n",
        "\n",
        "ThreeDList = np.array([[[23,5,2,5],[12,2,4,6],[12,2,4,1]],[[23,5,2,5],[12,2,4,6],[12,2,4,1]]])\n",
        "print(ThreeDList, ThreeDList.ndim)\n",
        "\n",
        "OneDList2 = np.array([1,3,4,5],ndmin=5)\n",
        "print(OneDList2, OneDList2.ndim)\n",
        "\n",
        "OneDList3 = np.array([1,3,4,5])\n",
        "print(OneDList3[1]+OneDList3[2])\n",
        "\n",
        "TwoDList1 = np.array([[23,5,2,5],[12,2,4,6],[12,2,4,1]])\n",
        "print(TwoDList1[1][3])"
      ],
      "execution_count": null,
      "outputs": [
        {
          "output_type": "stream",
          "text": [
            "[2 1 3 5 2] <class 'numpy.ndarray'>\n",
            "0 0\n",
            "[1 3 4 5] 1\n",
            "[[23  5  2  5]\n",
            " [12  2  4  6]\n",
            " [12  2  4  1]] 2\n",
            "[[[23  5  2  5]\n",
            "  [12  2  4  6]\n",
            "  [12  2  4  1]]\n",
            "\n",
            " [[23  5  2  5]\n",
            "  [12  2  4  6]\n",
            "  [12  2  4  1]]] 3\n",
            "[[[[[1 3 4 5]]]]] 5\n",
            "7\n",
            "6\n",
            "[6, 7]\n"
          ],
          "name": "stdout"
        }
      ]
    },
    {
      "cell_type": "code",
      "metadata": {
        "colab": {
          "base_uri": "https://localhost:8080/"
        },
        "id": "bXsNwJbGtufp",
        "outputId": "df9cb6bb-dede-47cc-fc98-400bbf7c25e8"
      },
      "source": [
        "#Slicing in arrays\n",
        "import numpy as np\n",
        "myArrary = np.array([2,4,5,7,8,4])\n",
        "print(myArrary[1:5:2]) #Start:End:Steps\n",
        "\n",
        "#Sorted array (even numbers)\n",
        "myArrary = np.array([1,2,3,4,5,6])\n",
        "print(myArrary[1:6:2])\n",
        "\n",
        "#Reverse array\n",
        "print(myArrary[::-1])\n",
        "\n",
        "#2D array\n",
        "myArrary = np.array([[2,3,4,5],[6,7,8,9,10]])\n",
        "print(myArrary[1][0:3])\n",
        "\n",
        "#Copy and View\n",
        "\n",
        "myArrary = np.array([1,2,3,4,5,7])\n",
        "copyArray = myArrary.copy() #Will create a copy, but won't reference to the same variable\n",
        "print(copyArray)\n",
        "myArrary[5] = 9\n",
        "print(copyArray)\n",
        "print(myArrary)\n",
        "print(\"view\")#Will reflect changes\n",
        "copyArray2 = myArrary.view()\n",
        "myArrary[1] = 4\n",
        "print(myArrary)\n",
        "print(copyArray2)"
      ],
      "execution_count": null,
      "outputs": [
        {
          "output_type": "stream",
          "text": [
            "[4 7]\n",
            "[2 4 6]\n",
            "[6 5 4 3 2 1]\n",
            "[6, 7, 8]\n",
            "[1 2 3 4 5 7]\n",
            "[1 2 3 4 5 7]\n",
            "[1 2 3 4 5 9]\n",
            "view\n",
            "[1 4 3 4 5 9]\n",
            "[1 4 3 4 5 9]\n"
          ],
          "name": "stdout"
        },
        {
          "output_type": "stream",
          "text": [
            "/usr/local/lib/python3.7/dist-packages/ipykernel_launcher.py:14: VisibleDeprecationWarning: Creating an ndarray from ragged nested sequences (which is a list-or-tuple of lists-or-tuples-or ndarrays with different lengths or shapes) is deprecated. If you meant to do this, you must specify 'dtype=object' when creating the ndarray\n",
            "  \n"
          ],
          "name": "stderr"
        }
      ]
    },
    {
      "cell_type": "code",
      "metadata": {
        "colab": {
          "base_uri": "https://localhost:8080/"
        },
        "id": "7TqYEaYdxKvt",
        "outputId": "92360e22-a1f0-40ae-e726-38d0fab3fa6d"
      },
      "source": [
        "#Shape\n",
        "import numpy as np\n",
        "TwoDArray = np.array([[3,4,2,4],[3,4,2,4]])#(Number of lists in each dimension, Elements in each list)\n",
        "print(TwoDArray.shape)\n",
        "OneDArray = np.array([3,4,2,4])\n",
        "print(OneDArray.shape)\n",
        "myTupple = (4,) #For a tuple\n",
        "print(type(myTupple))"
      ],
      "execution_count": null,
      "outputs": [
        {
          "output_type": "stream",
          "text": [
            "(2, 4)\n",
            "(4,)\n",
            "<class 'tuple'>\n"
          ],
          "name": "stdout"
        }
      ]
    },
    {
      "cell_type": "code",
      "metadata": {
        "colab": {
          "base_uri": "https://localhost:8080/"
        },
        "id": "s8schoeczeKj",
        "outputId": "edcf3902-dc91-4941-ac4e-dd62c0da0070"
      },
      "source": [
        "#Reshape\n",
        "import numpy as np\n",
        "OneDArray = np.array([1,2,3,4,5,6,7,8,9,10,11,12])\n",
        "myVar = OneDArray.reshape(4,3) #Will only reshape, when the values are divisble, otherwise, will give error\n",
        "print(myVar)\n",
        "ThreeDArray = np.array([1,2,3,4,5,6,7,8,9,10,11,12])\n",
        "copyVar = ThreeDArray.reshape(2,3,2)#Length = dimension of the array -> Multiply all numbers to check\n",
        "print(copyVar)\n",
        "print(copyVar.ndim)\n",
        "print(\"Iteration\")\n",
        "#Iteration\n",
        "for i in OneDArray:\n",
        "  print(i)"
      ],
      "execution_count": null,
      "outputs": [
        {
          "output_type": "stream",
          "text": [
            "[[ 1  2  3]\n",
            " [ 4  5  6]\n",
            " [ 7  8  9]\n",
            " [10 11 12]]\n",
            "[[[ 1  2]\n",
            "  [ 3  4]\n",
            "  [ 5  6]]\n",
            "\n",
            " [[ 7  8]\n",
            "  [ 9 10]\n",
            "  [11 12]]]\n",
            "3\n",
            "Iteration\n",
            "1\n",
            "2\n",
            "3\n",
            "4\n",
            "5\n",
            "6\n",
            "7\n",
            "8\n",
            "9\n",
            "10\n",
            "11\n",
            "12\n"
          ],
          "name": "stdout"
        }
      ]
    },
    {
      "cell_type": "code",
      "metadata": {
        "id": "UP0gxPUC4T3i",
        "colab": {
          "base_uri": "https://localhost:8080/"
        },
        "outputId": "96ba2f72-9b2b-499a-b892-6d9670659c56"
      },
      "source": [
        "#HW\n",
        "import numpy as np\n",
        "OneDArray = np.array([1,2,3,4,5,6,7,8])\n",
        "myVar = OneDArray.reshape(2,4)\n",
        "myVar2 = OneDArray.reshape(4,1,1,2) #The first divides, into 4 sub arrays, then the next 1 denotes to make the entire list 1 again by adding a bracket, then it repeats that again and then the last 2 determines the number of elements in each list\n",
        "print(myVar)\n",
        "print(myVar2)\n",
        "#convert 1-D array of len(8) into 2d,4d\n",
        "OneDArray = np.array([1,2,3,4,5,6,7,8,9,10,11,12,13,14,15,16,17,18,19,20,21,22,23,24,25,26,27])\n",
        "myVar = OneDArray.reshape(3,3,3)#The number of elements, determin the dimension. The number should be broken its dimension, and its product should be the length\n",
        "print(myVar)\n",
        "#convert 1-D array of len(27) into 3d"
      ],
      "execution_count": null,
      "outputs": [
        {
          "output_type": "stream",
          "text": [
            "[[1 2 3 4]\n",
            " [5 6 7 8]]\n",
            "[[[[1 2]]]\n",
            "\n",
            "\n",
            " [[[3 4]]]\n",
            "\n",
            "\n",
            " [[[5 6]]]\n",
            "\n",
            "\n",
            " [[[7 8]]]]\n",
            "[[[ 1  2  3]\n",
            "  [ 4  5  6]\n",
            "  [ 7  8  9]]\n",
            "\n",
            " [[10 11 12]\n",
            "  [13 14 15]\n",
            "  [16 17 18]]\n",
            "\n",
            " [[19 20 21]\n",
            "  [22 23 24]\n",
            "  [25 26 27]]]\n"
          ],
          "name": "stdout"
        }
      ]
    },
    {
      "cell_type": "code",
      "metadata": {
        "colab": {
          "base_uri": "https://localhost:8080/"
        },
        "id": "GlPZxF64zII6",
        "outputId": "9b1914f5-0d06-489c-9dda-28e75917e2e5"
      },
      "source": [
        "#Array Math\n",
        "#i - integer\n",
        "#b - boolean\n",
        "#u - unsigned integer (\"mixed data types\")\n",
        "#f - float\n",
        "#c - complex float\n",
        "#s- string\n",
        "#o - object\n",
        "#U - Unicode string\n",
        "import numpy as np\n",
        "array1 = np.array([[1,3,4,6,7],[3,2,5,7,2]]) #prints int64 - int as all the data types are int and 64, as the memory can store 64 bits\n",
        "print(array1.dtype,)\n",
        "array1 = np.array([\"aD\",\"DSA\",\"DSA\"]) \n",
        "print(array1)\n",
        "print(array1.dtype,)\n",
        "array1 = np.array([232.23,\"asds\",23, True, 232.223,12.24]) \n",
        "print(array1.dtype,)\n",
        "array1 = np.array(\"A\")\n",
        "print(array1.dtype)\n",
        "array1 = np.array([232.23,232.223,12.24],dtype= \"i\")\n",
        "print(array1) "
      ],
      "execution_count": null,
      "outputs": [
        {
          "output_type": "stream",
          "text": [
            "int64\n",
            "['aD' 'DSA' 'DSA']\n",
            "<U3\n",
            "<U32\n",
            "<U1\n",
            "[232 232  12]\n"
          ],
          "name": "stdout"
        }
      ]
    },
    {
      "cell_type": "code",
      "metadata": {
        "colab": {
          "base_uri": "https://localhost:8080/"
        },
        "id": "KWjorzey1V47",
        "outputId": "35aaedf6-3637-4a2e-a3ad-84c74615eca6"
      },
      "source": [
        "#Covert 2 dimensional array (Array Math)\n",
        "import numpy as np\n",
        "\n",
        "firstArray = np.array([[2,4,6,8,9,4],[2,4,1,3,5,6]])#All the number of elements should be same\n",
        "secondArray = np.array([[6,4,7,8,4,5],[6,2,6,8,4,3]])\n",
        "print(firstArray+secondArray)#This will concatinate, not add\n",
        "\n",
        "# + operator\n",
        "\n",
        "print(np.add(firstArray,secondArray))\n",
        "\n",
        "# - operator\n",
        "\n",
        "print(firstArray-secondArray)\n",
        "print(np.subtract(firstArray,secondArray))\n",
        "\n",
        "# * operator\n",
        "\n",
        "print(firstArray*secondArray)\n",
        "print(np.multiply(firstArray,secondArray))\n",
        "\n",
        "# / operator\n",
        "\n",
        "print(firstArray/secondArray)\n",
        "print(np.divide(firstArray,secondArray))\n",
        "\n",
        "# sq. root\n",
        "print(np.sqrt(firstArray))\n",
        "\n"
      ],
      "execution_count": null,
      "outputs": [
        {
          "output_type": "stream",
          "text": [
            "[[ 8  8 13 16 13  9]\n",
            " [ 8  6  7 11  9  9]]\n",
            "[[ 8  8 13 16 13  9]\n",
            " [ 8  6  7 11  9  9]]\n",
            "[[-4  0 -1  0  5 -1]\n",
            " [-4  2 -5 -5  1  3]]\n",
            "[[-4  0 -1  0  5 -1]\n",
            " [-4  2 -5 -5  1  3]]\n",
            "[[12 16 42 64 36 20]\n",
            " [12  8  6 24 20 18]]\n",
            "[[12 16 42 64 36 20]\n",
            " [12  8  6 24 20 18]]\n",
            "[[0.33333333 1.         0.85714286 1.         2.25       0.8       ]\n",
            " [0.33333333 2.         0.16666667 0.375      1.25       2.        ]]\n",
            "[[0.33333333 1.         0.85714286 1.         2.25       0.8       ]\n",
            " [0.33333333 2.         0.16666667 0.375      1.25       2.        ]]\n",
            "[[1.41421356 2.         2.44948974 2.82842712 3.         2.        ]\n",
            " [1.41421356 2.         1.         1.73205081 2.23606798 2.44948974]]\n",
            "[0.1493267  0.87278965 0.71407572 0.58219684 0.74836575 0.92113807\n",
            " 0.55193836 0.84414809 0.91924073 0.37402699]\n"
          ],
          "name": "stdout"
        }
      ]
    },
    {
      "cell_type": "code",
      "metadata": {
        "colab": {
          "base_uri": "https://localhost:8080/"
        },
        "id": "VaBUz4gf5JWZ",
        "outputId": "8d79f988-e4de-4e88-d492-4e7fbfaef331"
      },
      "source": [
        "#random array\n",
        "\n",
        "myarray = np.random.random(10)#1D array of 10 elements\n",
        "print(myarray)\n",
        "myarray = np.random.random((2,2))#2D array of 2 elements each, (number of lists, number of items)\n",
        "print(myarray)"
      ],
      "execution_count": null,
      "outputs": [
        {
          "output_type": "stream",
          "text": [
            "[0.08450815 0.00193162 0.67884392 0.36640199 0.13937839 0.58442744\n",
            " 0.58389927 0.55813718 0.12194173 0.08307989]\n",
            "[[0.52855232 0.17281109]\n",
            " [0.28703023 0.66931349]\n",
            " [0.49399321 0.17383373]]\n"
          ],
          "name": "stdout"
        }
      ]
    },
    {
      "cell_type": "code",
      "metadata": {
        "colab": {
          "base_uri": "https://localhost:8080/"
        },
        "id": "arSFjY4T5oI5",
        "outputId": "508a8254-8fec-4a60-a0d1-a4712cd67657"
      },
      "source": [
        "#Concatenate with 1d array\n",
        "array1 = np.array([1,2,3,5,6,7])\n",
        "array2 = np.array([1,2,3,5,6,8,32,32])\n",
        "myVar = np.concatenate((array1,array2))\n",
        "print(myVar)\n",
        "#Concatenate with 2d array\n",
        "array1 = np.array([[1,2,3,5,6,7],[1,2,3,5,6,7]])\n",
        "array2 = np.array([[1,2,3,5,6,7],[1,2,3,5,6,7]])\n",
        "myVar = np.concatenate((array1,array2)) #For 2d array we need same length\n",
        "print(myVar)"
      ],
      "execution_count": null,
      "outputs": [
        {
          "output_type": "stream",
          "text": [
            "[ 1  2  3  5  6  7  1  2  3  5  6  8 32 32]\n",
            "[[1 2 3 5 6 7]\n",
            " [1 2 3 5 6 7]\n",
            " [1 2 3 5 6 7]\n",
            " [1 2 3 5 6 7]]\n"
          ],
          "name": "stdout"
        }
      ]
    },
    {
      "cell_type": "code",
      "metadata": {
        "colab": {
          "base_uri": "https://localhost:8080/"
        },
        "id": "BIUhzkcM6me5",
        "outputId": "3998c76e-4aec-402f-f099-c0dc0210b515"
      },
      "source": [
        "#Split\n",
        "array1 = np.array([1,2,3,5,6,7])\n",
        "myVar = np.array_split(array1,4)#split array into - (array, by how much to split)\n",
        "print(myVar)"
      ],
      "execution_count": null,
      "outputs": [
        {
          "output_type": "stream",
          "text": [
            "[array([1, 2]), array([3, 5]), array([6]), array([7])]\n"
          ],
          "name": "stdout"
        }
      ]
    },
    {
      "cell_type": "code",
      "metadata": {
        "colab": {
          "base_uri": "https://localhost:8080/"
        },
        "id": "ifGaPKtV66UI",
        "outputId": "198d895e-9d6a-4f5f-9939-0caa7c77bcd5"
      },
      "source": [
        "#Sort\n",
        "array1 = np.array([3,4,5,2,1,35,32])\n",
        "print(np.sort(array1))#How to sort a array\n",
        "array2 = np.array([[2,3,4,5],[12,3,4,2]])\n",
        "print(np.sort(array2))"
      ],
      "execution_count": null,
      "outputs": [
        {
          "output_type": "stream",
          "text": [
            "[ 1  2  3  4  5 32 35]\n",
            "[[ 2  3  4  5]\n",
            " [ 2  3  4 12]]\n"
          ],
          "name": "stdout"
        }
      ]
    }
  ]
}